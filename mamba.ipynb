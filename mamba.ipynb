{
 "cells": [
  {
   "cell_type": "code",
   "id": "initial_id",
   "metadata": {
    "collapsed": true,
    "ExecuteTime": {
     "end_time": "2025-01-22T07:40:36.224105Z",
     "start_time": "2025-01-22T07:40:34.562968Z"
    }
   },
   "source": [
    "import pandas as pd\n",
    "import numpy as np\n",
    "import torch\n",
    "import torch.nn as nn\n",
    "import torch.optim as optim\n",
    "from mamba_ssm import Mamba\n",
    "\n",
    "from sklearn.preprocessing import MinMaxScaler\n",
    "from sklearn.metrics import mean_squared_error, mean_absolute_error, r2_score\n"
   ],
   "outputs": [
    {
     "name": "stderr",
     "output_type": "stream",
     "text": [
      "/home/blacktower/miniconda3/envs/pytorch/lib/python3.9/site-packages/tqdm/auto.py:21: TqdmWarning: IProgress not found. Please update jupyter and ipywidgets. See https://ipywidgets.readthedocs.io/en/stable/user_install.html\n",
      "  from .autonotebook import tqdm as notebook_tqdm\n"
     ]
    }
   ],
   "execution_count": 2
  },
  {
   "metadata": {
    "ExecuteTime": {
     "end_time": "2025-01-22T07:40:40.932861Z",
     "start_time": "2025-01-22T07:40:36.230816Z"
    }
   },
   "cell_type": "code",
   "source": [
    "import pandas as pd\n",
    "import numpy as np\n",
    "from sklearn.preprocessing import MinMaxScaler, OneHotEncoder\n",
    "import torch\n",
    "\n",
    "# 读取 Excel 数据\n",
    "data = pd.read_excel(\"湖北省小时数据.xlsx\")  # 替换为你的数据文件路径\n",
    "features = ['type', 'weather', 'wind', 'humidity', 'barometer', 'load']\n",
    "data = data[features]\n",
    "\n",
    "# 独热编码 'type' 列\n",
    "encoder = OneHotEncoder(sparse_output=False)\n",
    "type_encoded = encoder.fit_transform(data[['type']])\n",
    "type_encoded_df = pd.DataFrame(type_encoded, columns=encoder.get_feature_names_out(['type']))\n",
    "\n",
    "# MinMax 归一化其他列\n",
    "scaler = MinMaxScaler()\n",
    "scaled_features = scaler.fit_transform(data[['weather', 'wind', 'humidity', 'barometer', 'load']])\n",
    "scaled_features_df = pd.DataFrame(scaled_features, columns=['weather', 'wind', 'humidity', 'barometer', 'load'])\n",
    "\n",
    "# 合并独热编码和归一化结果\n",
    "data_normalized = pd.concat([type_encoded_df, scaled_features_df], axis=1)\n",
    "\n",
    "# 划分训练和测试集 (此处测试集为最后 48 条)\n",
    "train_data = data_normalized.iloc[:-48].values\n",
    "test_data = data_normalized.iloc[-48:].values\n",
    "\n",
    "# 组序列函数\n",
    "def prepare_sequences(data, sequence_length=24):\n",
    "    X, y = [], []\n",
    "    for i in range(len(data) - sequence_length):\n",
    "        # X: 连续 24 小时的所有特征\n",
    "        X.append(data[i:i + sequence_length])\n",
    "        # y: 第 25 小时的 load (最后一列)\n",
    "        y.append(data[i + sequence_length, -1])\n",
    "    return np.array(X), np.array(y)\n",
    "\n",
    "# 得到训练集\n",
    "X_train, y_train = prepare_sequences(train_data, sequence_length=24)\n",
    "# 得到测试集\n",
    "X_test, y_test = prepare_sequences(test_data, sequence_length=24)\n",
    "\n",
    "# 转化为 PyTorch Tensor\n",
    "X_train = torch.tensor(X_train, dtype=torch.float32)  # [样本数, 24, 特征数]\n",
    "y_train = torch.tensor(y_train, dtype=torch.float32)  # [样本数]\n",
    "X_test = torch.tensor(X_test, dtype=torch.float32)    # [测试样本数, 24, 特征数]\n",
    "y_test = torch.tensor(y_test, dtype=torch.float32)    # [测试样本数]\n",
    "\n",
    "# 检查数据形状\n",
    "print(\"X_train shape:\", X_train.shape)\n",
    "print(\"y_train shape:\", y_train.shape)\n",
    "print(\"X_test shape:\", X_test.shape)\n",
    "print(\"y_test shape:\", y_test.shape)\n"
   ],
   "id": "126dfc5a36573713",
   "outputs": [
    {
     "name": "stdout",
     "output_type": "stream",
     "text": [
      "X_train shape: torch.Size([78816, 24, 127])\n",
      "y_train shape: torch.Size([78816])\n",
      "X_test shape: torch.Size([24, 24, 127])\n",
      "y_test shape: torch.Size([24])\n"
     ]
    }
   ],
   "execution_count": 3
  },
  {
   "metadata": {
    "ExecuteTime": {
     "end_time": "2025-01-22T07:40:40.988519Z",
     "start_time": "2025-01-22T07:40:40.985375Z"
    }
   },
   "cell_type": "code",
   "source": [
    "class MambaForecastModel(nn.Module):\n",
    "    \"\"\"\n",
    "    使用 Mamba 模型进行预测：\n",
    "    - d_model 对应输入维度 (input_size)\n",
    "    - d_state 表示 SSM state 的扩展因子 (可视为隐藏维度)\n",
    "    - d_conv 为卷积宽度\n",
    "    - expand 为每个 Block 的扩张倍数\n",
    "    \"\"\"\n",
    "    def __init__(self, input_size, d_state, d_conv, expand):\n",
    "        super(MambaForecastModel, self).__init__()\n",
    "        # Mamba 会输出与输入同维度的特征序列\n",
    "        self.mamba = Mamba(\n",
    "            d_model=input_size,  # 输入特征维度\n",
    "            d_state=d_state,      # 状态扩展大小\n",
    "            d_conv=d_conv,        # 局部卷积宽度\n",
    "            expand=expand         # 块级扩张因子\n",
    "        )\n",
    "        # 将最后一个时间步的输出映射到单个值（预测 load）\n",
    "        self.fc = nn.Linear(input_size, 1)\n",
    "\n",
    "    def forward(self, x):\n",
    "        \"\"\"\n",
    "        x shape: [batch_size, seq_len, input_size]\n",
    "        Mamba 输出 shape 同 x，即 [batch_size, seq_len, input_size]\n",
    "        这里我们只取最后一个时间步的向量，映射成 1 维输出。\n",
    "        \"\"\"\n",
    "        out = self.mamba(x)             # [batch_size, seq_len, input_size]\n",
    "        last_hidden = out[:, -1, :]     # [batch_size, input_size]\n",
    "        out = self.fc(last_hidden)      # [batch_size, 1]\n",
    "        return out.squeeze(-1)          # [batch_size], 与 y_train / y_test 对齐\n"
   ],
   "id": "48e5fd85daeeb84b",
   "outputs": [],
   "execution_count": 4
  },
  {
   "metadata": {
    "jupyter": {
     "is_executing": true
    },
    "ExecuteTime": {
     "start_time": "2025-01-22T07:40:41.031440Z"
    }
   },
   "cell_type": "code",
   "source": [
    "# 实例化模型\n",
    "# model = LSTMForecastModel(input_size=5, hidden_size=64, num_layers=1)\n",
    "# 实例化 Mamba 模型\n",
    "model = MambaForecastModel(\n",
    "    input_size=127,   # 与数据特征维度相同\n",
    "    d_state=16,     # 可视作“隐藏层”大小，可根据需求调整\n",
    "    d_conv=4,\n",
    "    expand=2\n",
    ")\n",
    "# 损失函数和优化器\n",
    "criterion = nn.MSELoss()\n",
    "optimizer = optim.Adam(model.parameters(), lr=1e-3)\n",
    "\n",
    "# 一般先把数据放到GPU(如果可用)\n",
    "device = torch.device('cuda' if torch.cuda.is_available() else 'cpu')\n",
    "print(\"Using device:\", device)\n",
    "model.to(device)\n",
    "\n",
    "X_train = X_train.to(device)\n",
    "y_train = y_train.to(device)\n",
    "X_test = X_test.to(device)\n",
    "y_test = y_test.to(device)\n",
    "\n",
    "# 超参\n",
    "epochs = 200\n",
    "batch_size = 32\n",
    "\n",
    "# 开始训练\n",
    "model.train()\n",
    "for epoch in range(epochs):\n",
    "    # 这里为了简单，写一个 mini-batch 的循环\n",
    "    permutation = torch.randperm(X_train.size(0))\n",
    "    total_loss = 0.0\n",
    "\n",
    "    for i in range(0, X_train.size(0), batch_size):\n",
    "        indices = permutation[i:i+batch_size]\n",
    "        batch_x = X_train[indices]\n",
    "        batch_y = y_train[indices]\n",
    "\n",
    "        optimizer.zero_grad()\n",
    "        outputs = model(batch_x)     # forward\n",
    "        loss = criterion(outputs, batch_y)\n",
    "        loss.backward()\n",
    "        optimizer.step()\n",
    "\n",
    "        total_loss += loss.item()\n",
    "\n",
    "    if (epoch+1) % 10 == 0:\n",
    "        avg_loss = total_loss / (X_train.size(0) // batch_size + 1)\n",
    "        print(f\"Epoch [{epoch+1}/{epochs}], Loss: {avg_loss:.8f}\")\n"
   ],
   "id": "73626f786f6bd2dd",
   "outputs": [
    {
     "name": "stdout",
     "output_type": "stream",
     "text": [
      "Using device: cuda\n",
      "Epoch [10/200], Loss: 0.00015492\n"
     ]
    }
   ],
   "execution_count": null
  },
  {
   "metadata": {
    "ExecuteTime": {
     "end_time": "2025-01-22T07:02:30.143579Z",
     "start_time": "2025-01-22T07:02:29.891867Z"
    }
   },
   "cell_type": "code",
   "source": [
    "model.eval()\n",
    "with torch.no_grad():\n",
    "    y_pred = model(X_test)  # [测试样本数]\n",
    "\n",
    "# 转回CPU的numpy，方便用sklearn度量\n",
    "y_test_cpu = y_test.cpu().numpy()\n",
    "y_pred_cpu = y_pred.cpu().numpy()\n",
    "\n",
    "#============================#\n",
    "#      进行“反归一化”      #\n",
    "#============================#\n",
    "\n",
    "# 1) 准备一个与原特征数相同（5列）的零矩阵\n",
    "test_data_temp = np.zeros((y_test_cpu.shape[0], 5))\n",
    "pred_data_temp = np.zeros((y_pred_cpu.shape[0], 5))\n",
    "\n",
    "# 2) 仅将最后一列（对应 load ）替换为测试值和预测值\n",
    "test_data_temp[:, -1] = y_test_cpu\n",
    "pred_data_temp[:, -1] = y_pred_cpu\n",
    "\n",
    "# 3) 使用之前的 scaler 做逆变换\n",
    "test_data_unscaled = scaler.inverse_transform(test_data_temp)\n",
    "pred_data_unscaled = scaler.inverse_transform(pred_data_temp)\n",
    "\n",
    "# 4) 取出反归一化后的 load 列\n",
    "y_test_unscaled = test_data_unscaled[:, -1]\n",
    "y_pred_unscaled = pred_data_unscaled[:, -1]\n",
    "\n",
    "#============================#\n",
    "#   计算原始尺度下的误差     #\n",
    "#============================#\n",
    "\n",
    "# 在原始量纲下计算 MSE, MAE, R^2, MAPE\n",
    "mse = mean_squared_error(y_test_unscaled, y_pred_unscaled)\n",
    "mae = mean_absolute_error(y_test_unscaled, y_pred_unscaled)\n",
    "r2 = r2_score(y_test_unscaled, y_pred_unscaled)\n",
    "mape = np.mean(np.abs((y_test_unscaled - y_pred_unscaled) / (y_test_unscaled + 1e-8))) * 100\n",
    "\n",
    "print(\"Test MSE (Unscaled):  \", mse)\n",
    "print(\"Test MAE (Unscaled):  \", mae)\n",
    "print(\"Test R^2 (Unscaled):  \", r2)\n",
    "print(\"Test MAPE (Unscaled): {:.2f}%\".format(mape))\n"
   ],
   "id": "27332062ae99d795",
   "outputs": [
    {
     "ename": "NameError",
     "evalue": "name 'model' is not defined",
     "output_type": "error",
     "traceback": [
      "\u001B[0;31m---------------------------------------------------------------------------\u001B[0m",
      "\u001B[0;31mNameError\u001B[0m                                 Traceback (most recent call last)",
      "Cell \u001B[0;32mIn[1], line 1\u001B[0m\n\u001B[0;32m----> 1\u001B[0m \u001B[43mmodel\u001B[49m\u001B[38;5;241m.\u001B[39meval()\n\u001B[1;32m      2\u001B[0m y_pred_unscaled \u001B[38;5;241m=\u001B[39m []  \u001B[38;5;66;03m# 用于存储滚动预测的反归一化结果\u001B[39;00m\n\u001B[1;32m      4\u001B[0m \u001B[38;5;66;03m# 初始化第一个测试序列\u001B[39;00m\n",
      "\u001B[0;31mNameError\u001B[0m: name 'model' is not defined"
     ]
    }
   ],
   "execution_count": 1
  },
  {
   "metadata": {
    "ExecuteTime": {
     "end_time": "2025-01-15T07:50:05.435780Z",
     "start_time": "2025-01-15T07:50:03.578878Z"
    }
   },
   "cell_type": "code",
   "source": [
    "# import torch\n",
    "# from mamba_ssm import Mamba\n",
    "# \n",
    "# batch, length, dim = 2, 64, 16\n",
    "# x = torch.randn(batch, length, dim).to(\"cuda\")\n",
    "# model = Mamba(\n",
    "#     # This module uses roughly 3 * expand * d_model^2 parameters\n",
    "#     d_model=dim, # Model dimension d_model\n",
    "#     d_state=16,  # SSM state expansion factor\n",
    "#     d_conv=4,    # Local convolution width\n",
    "#     expand=2,    # Block expansion factor\n",
    "# ).to(\"cuda\")\n",
    "# y = model(x)\n",
    "# assert y.shape == x.shape"
   ],
   "id": "2d9537bbec63a07d",
   "outputs": [
    {
     "name": "stderr",
     "output_type": "stream",
     "text": [
      "/home/blacktower/miniconda3/envs/pytorch/lib/python3.9/site-packages/tqdm/auto.py:21: TqdmWarning: IProgress not found. Please update jupyter and ipywidgets. See https://ipywidgets.readthedocs.io/en/stable/user_install.html\n",
      "  from .autonotebook import tqdm as notebook_tqdm\n"
     ]
    }
   ],
   "execution_count": 1
  },
  {
   "metadata": {
    "ExecuteTime": {
     "end_time": "2025-01-15T07:50:17.239748Z",
     "start_time": "2025-01-15T07:50:17.232750Z"
    }
   },
   "cell_type": "code",
   "source": "# print(x.shape)",
   "id": "ca30f8f8d35b205f",
   "outputs": [
    {
     "name": "stdout",
     "output_type": "stream",
     "text": [
      "torch.Size([2, 64, 16])\n"
     ]
    }
   ],
   "execution_count": 2
  },
  {
   "metadata": {
    "ExecuteTime": {
     "end_time": "2025-01-15T07:50:23.482468Z",
     "start_time": "2025-01-15T07:50:23.478934Z"
    }
   },
   "cell_type": "code",
   "source": "# print(y.shape)",
   "id": "c753ef4c2b3e83f3",
   "outputs": [
    {
     "name": "stdout",
     "output_type": "stream",
     "text": [
      "torch.Size([2, 64, 16])\n"
     ]
    }
   ],
   "execution_count": 3
  },
  {
   "metadata": {},
   "cell_type": "code",
   "outputs": [],
   "execution_count": null,
   "source": "",
   "id": "a3d56bfb55297ae4"
  }
 ],
 "metadata": {
  "kernelspec": {
   "display_name": "Python 3",
   "language": "python",
   "name": "python3"
  },
  "language_info": {
   "codemirror_mode": {
    "name": "ipython",
    "version": 2
   },
   "file_extension": ".py",
   "mimetype": "text/x-python",
   "name": "python",
   "nbconvert_exporter": "python",
   "pygments_lexer": "ipython2",
   "version": "2.7.6"
  }
 },
 "nbformat": 4,
 "nbformat_minor": 5
}
