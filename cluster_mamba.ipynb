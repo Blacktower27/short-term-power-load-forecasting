{
 "cells": [
  {
   "cell_type": "code",
   "id": "initial_id",
   "metadata": {
    "collapsed": true,
    "ExecuteTime": {
     "end_time": "2025-01-22T21:39:03.881256Z",
     "start_time": "2025-01-22T21:39:03.873850Z"
    }
   },
   "source": [
    "import torch.nn as nn\n",
    "import torch.optim as optim\n",
    "from mamba_ssm import Mamba\n",
    "from sklearn.metrics import mean_squared_error, mean_absolute_error, r2_score"
   ],
   "outputs": [],
   "execution_count": 21
  },
  {
   "metadata": {
    "ExecuteTime": {
     "end_time": "2025-01-22T21:39:08.305037Z",
     "start_time": "2025-01-22T21:39:03.921624Z"
    }
   },
   "cell_type": "code",
   "source": [
    "import pandas as pd\n",
    "import numpy as np\n",
    "from sklearn.preprocessing import MinMaxScaler, OneHotEncoder\n",
    "import torch\n",
    "\n",
    "# 读取 Excel 数据\n",
    "data = pd.read_excel(\"GMM based weather type.xlsx\")  # 替换为你的数据文件路径\n",
    "features = ['type', 'weather', 'wind', 'humidity', 'barometer', 'load']\n",
    "data = data[features]\n",
    "\n",
    "# 独热编码 'type' 列\n",
    "encoder = OneHotEncoder(sparse_output=False)\n",
    "type_encoded = encoder.fit_transform(data[['type']])\n",
    "type_encoded_df = pd.DataFrame(type_encoded, columns=encoder.get_feature_names_out(['type']))\n",
    "\n",
    "# MinMax 归一化其他列\n",
    "scaler = MinMaxScaler()\n",
    "scaled_features = scaler.fit_transform(data[['weather', 'wind', 'humidity', 'barometer', 'load']])\n",
    "scaled_features_df = pd.DataFrame(scaled_features, columns=['weather', 'wind', 'humidity', 'barometer', 'load'])\n",
    "\n",
    "# 合并独热编码和归一化结果\n",
    "data_normalized = pd.concat([type_encoded_df, scaled_features_df], axis=1)\n",
    "\n",
    "# 划分训练和测试集 (此处测试集为最后 48 条)\n",
    "train_data = data_normalized.iloc[:-48].values\n",
    "test_data = data_normalized.iloc[-48:].values\n",
    "\n",
    "# 组序列函数\n",
    "def prepare_sequences(data, sequence_length=24):\n",
    "    X, y = [], []\n",
    "    for i in range(len(data) - sequence_length):\n",
    "        # X: 连续 24 小时的所有特征\n",
    "        X.append(data[i:i + sequence_length])\n",
    "        # y: 第 25 小时的 load (最后一列)\n",
    "        y.append(data[i + sequence_length, -1])\n",
    "    return np.array(X), np.array(y)\n",
    "\n",
    "# 得到训练集\n",
    "X_train, y_train = prepare_sequences(train_data, sequence_length=24)\n",
    "# 得到测试集\n",
    "X_test, y_test = prepare_sequences(test_data, sequence_length=24)\n",
    "\n",
    "# 转化为 PyTorch Tensor\n",
    "X_train = torch.tensor(X_train, dtype=torch.float32)  # [样本数, 24, 特征数]\n",
    "y_train = torch.tensor(y_train, dtype=torch.float32)  # [样本数]\n",
    "X_test = torch.tensor(X_test, dtype=torch.float32)    # [测试样本数, 24, 特征数]\n",
    "y_test = torch.tensor(y_test, dtype=torch.float32)    # [测试样本数]\n",
    "\n",
    "# 检查数据形状\n",
    "print(\"X_train shape:\", X_train.shape)\n",
    "print(\"y_train shape:\", y_train.shape)\n",
    "print(\"X_test shape:\", X_test.shape)\n",
    "print(\"y_test shape:\", y_test.shape)\n"
   ],
   "id": "126dfc5a36573713",
   "outputs": [
    {
     "name": "stdout",
     "output_type": "stream",
     "text": [
      "X_train shape: torch.Size([78816, 24, 14])\n",
      "y_train shape: torch.Size([78816])\n",
      "X_test shape: torch.Size([24, 24, 14])\n",
      "y_test shape: torch.Size([24])\n"
     ]
    }
   ],
   "execution_count": 22
  },
  {
   "metadata": {
    "ExecuteTime": {
     "end_time": "2025-01-22T21:39:08.362837Z",
     "start_time": "2025-01-22T21:39:08.360098Z"
    }
   },
   "cell_type": "code",
   "source": [
    "class MambaForecastModel(nn.Module):\n",
    "    \"\"\"\n",
    "    使用 Mamba 模型进行预测：\n",
    "    - d_model 对应输入维度 (input_size)\n",
    "    - d_state 表示 SSM state 的扩展因子 (可视为隐藏维度)\n",
    "    - d_conv 为卷积宽度\n",
    "    - expand 为每个 Block 的扩张倍数\n",
    "    \"\"\"\n",
    "    def __init__(self, input_size, d_state, d_conv, expand):\n",
    "        super(MambaForecastModel, self).__init__()\n",
    "        # Mamba 会输出与输入同维度的特征序列\n",
    "        self.mamba = Mamba(\n",
    "            d_model=input_size,  # 输入特征维度\n",
    "            d_state=d_state,      # 状态扩展大小\n",
    "            d_conv=d_conv,        # 局部卷积宽度\n",
    "            expand=expand         # 块级扩张因子\n",
    "        )\n",
    "        # 将最后一个时间步的输出映射到单个值（预测 load）\n",
    "        self.fc = nn.Linear(input_size, 1)\n",
    "\n",
    "    def forward(self, x):\n",
    "        \"\"\"\n",
    "        x shape: [batch_size, seq_len, input_size]\n",
    "        Mamba 输出 shape 同 x，即 [batch_size, seq_len, input_size]\n",
    "        这里我们只取最后一个时间步的向量，映射成 1 维输出。\n",
    "        \"\"\"\n",
    "        out = self.mamba(x)             # [batch_size, seq_len, input_size]\n",
    "        last_hidden = out[:, -1, :]     # [batch_size, input_size]\n",
    "        out = self.fc(last_hidden)      # [batch_size, 1]\n",
    "        return out.squeeze(-1)          # [batch_size], 与 y_train / y_test 对齐\n"
   ],
   "id": "48e5fd85daeeb84b",
   "outputs": [],
   "execution_count": 23
  },
  {
   "metadata": {
    "ExecuteTime": {
     "end_time": "2025-01-22T21:49:08.843903Z",
     "start_time": "2025-01-22T21:39:08.380886Z"
    }
   },
   "cell_type": "code",
   "source": [
    "# 实例化模型\n",
    "# model = LSTMForecastModel(input_size=5, hidden_size=64, num_layers=1)\n",
    "# 实例化 Mamba 模型\n",
    "model = MambaForecastModel(\n",
    "    input_size=14,   # 与数据特征维度相同\n",
    "    d_state=16,     # 可视作“隐藏层”大小，可根据需求调整\n",
    "    d_conv=4,\n",
    "    expand=2\n",
    ")\n",
    "# 损失函数和优化器\n",
    "criterion = nn.MSELoss()\n",
    "optimizer = optim.Adam(model.parameters(), lr=1e-3)\n",
    "\n",
    "# 一般先把数据放到GPU(如果可用)\n",
    "device = torch.device('cuda' if torch.cuda.is_available() else 'cpu')\n",
    "print(\"Using device:\", device)\n",
    "model.to(device)\n",
    "\n",
    "X_train = X_train.to(device)\n",
    "y_train = y_train.to(device)\n",
    "X_test = X_test.to(device)\n",
    "y_test = y_test.to(device)\n",
    "\n",
    "# 超参\n",
    "epochs = 200\n",
    "batch_size = 32\n",
    "\n",
    "# 开始训练\n",
    "model.train()\n",
    "for epoch in range(epochs):\n",
    "    # 这里为了简单，写一个 mini-batch 的循环\n",
    "    permutation = torch.randperm(X_train.size(0))\n",
    "    total_loss = 0.0\n",
    "\n",
    "    for i in range(0, X_train.size(0), batch_size):\n",
    "        indices = permutation[i:i+batch_size]\n",
    "        batch_x = X_train[indices]\n",
    "        batch_y = y_train[indices]\n",
    "\n",
    "        optimizer.zero_grad()\n",
    "        outputs = model(batch_x)     # forward\n",
    "        loss = criterion(outputs, batch_y)\n",
    "        loss.backward()\n",
    "        optimizer.step()\n",
    "\n",
    "        total_loss += loss.item()\n",
    "\n",
    "    if (epoch+1) % 10 == 0:\n",
    "        avg_loss = total_loss / (X_train.size(0) // batch_size + 1)\n",
    "        print(f\"Epoch [{epoch+1}/{epochs}], Loss: {avg_loss:.8f}\")\n",
    "        \n",
    "torch.save(model.state_dict(), \"GMM_clust_mamba_forecast_model_state.pth\")"
   ],
   "id": "73626f786f6bd2dd",
   "outputs": [
    {
     "name": "stdout",
     "output_type": "stream",
     "text": [
      "Using device: cuda\n",
      "Epoch [10/200], Loss: 0.00023675\n",
      "Epoch [20/200], Loss: 0.00016429\n",
      "Epoch [30/200], Loss: 0.00014798\n",
      "Epoch [40/200], Loss: 0.00013600\n",
      "Epoch [50/200], Loss: 0.00012820\n",
      "Epoch [60/200], Loss: 0.00011689\n",
      "Epoch [70/200], Loss: 0.00010806\n",
      "Epoch [80/200], Loss: 0.00010188\n",
      "Epoch [90/200], Loss: 0.00009821\n",
      "Epoch [100/200], Loss: 0.00009540\n",
      "Epoch [110/200], Loss: 0.00009313\n",
      "Epoch [120/200], Loss: 0.00009111\n",
      "Epoch [130/200], Loss: 0.00009013\n",
      "Epoch [140/200], Loss: 0.00008863\n",
      "Epoch [150/200], Loss: 0.00008793\n",
      "Epoch [160/200], Loss: 0.00008768\n",
      "Epoch [170/200], Loss: 0.00008637\n",
      "Epoch [180/200], Loss: 0.00008519\n",
      "Epoch [190/200], Loss: 0.00008521\n",
      "Epoch [200/200], Loss: 0.00008415\n"
     ]
    }
   ],
   "execution_count": 24
  },
  {
   "metadata": {
    "ExecuteTime": {
     "end_time": "2025-01-22T21:49:08.922646Z",
     "start_time": "2025-01-22T21:49:08.914780Z"
    }
   },
   "cell_type": "code",
   "source": [
    "device = torch.device('cuda' if torch.cuda.is_available() else 'cpu')\n",
    "model = MambaForecastModel(\n",
    "    input_size=14,   # 与数据特征维度相同\n",
    "    d_state=16,     # 可视作“隐藏层”大小，可根据需求调整\n",
    "    d_conv=4,\n",
    "    expand=2\n",
    ")\n",
    "model.load_state_dict(torch.load(\"GMM_clust_mamba_forecast_model_state.pth\", weights_only=True))\n",
    "model.to(device)  # 确保模型移动到相应设备\n",
    "model.eval()\n",
    "# 确保输入张量也在正确的设备上\n",
    "X_test = X_test.to(device)\n",
    "y_test = y_test.to(device)  # 如果 y_test 需要在同一设备上，可选\n",
    "with torch.no_grad():\n",
    "    y_pred = model(X_test)  # [测试样本数]\n",
    "\n",
    "# 转回CPU的numpy，方便用sklearn度量\n",
    "y_test_cpu = y_test.cpu().numpy()\n",
    "y_pred_cpu = y_pred.cpu().numpy()\n",
    "\n",
    "#============================#\n",
    "#      进行“反归一化”      #\n",
    "#============================#\n",
    "\n",
    "# 1) 准备一个与原特征数相同（5列）的零矩阵\n",
    "test_data_temp = np.zeros((y_test_cpu.shape[0], 5))\n",
    "pred_data_temp = np.zeros((y_pred_cpu.shape[0], 5))\n",
    "\n",
    "# 2) 仅将最后一列（对应 load ）替换为测试值和预测值\n",
    "test_data_temp[:, -1] = y_test_cpu\n",
    "pred_data_temp[:, -1] = y_pred_cpu\n",
    "\n",
    "# 3) 使用之前的 scaler 做逆变换\n",
    "test_data_unscaled = scaler.inverse_transform(test_data_temp)\n",
    "pred_data_unscaled = scaler.inverse_transform(pred_data_temp)\n",
    "\n",
    "# 4) 取出反归一化后的 load 列\n",
    "y_test_unscaled = test_data_unscaled[:, -1]\n",
    "y_pred_unscaled = pred_data_unscaled[:, -1]\n",
    "\n",
    "#============================#\n",
    "#   计算原始尺度下的误差     #\n",
    "#============================#\n",
    "\n",
    "# 在原始量纲下计算 MSE, MAE, R^2, MAPE\n",
    "mse = mean_squared_error(y_test_unscaled, y_pred_unscaled)\n",
    "mae = mean_absolute_error(y_test_unscaled, y_pred_unscaled)\n",
    "r2 = r2_score(y_test_unscaled, y_pred_unscaled)\n",
    "mape = np.mean(np.abs((y_test_unscaled - y_pred_unscaled) / (y_test_unscaled + 1e-8))) * 100\n",
    "\n",
    "print(\"Test MSE (Unscaled):  \", mse)\n",
    "print(\"Test MAE (Unscaled):  \", mae)\n",
    "print(\"Test R^2 (Unscaled):  \", r2)\n",
    "print(\"Test MAPE (Unscaled): {:.2f}%\".format(mape))\n"
   ],
   "id": "2d9537bbec63a07d",
   "outputs": [
    {
     "name": "stdout",
     "output_type": "stream",
     "text": [
      "Test MSE (Unscaled):   2140.1165942499315\n",
      "Test MAE (Unscaled):   38.18388245595494\n",
      "Test R^2 (Unscaled):   0.9858527901528553\n",
      "Test MAPE (Unscaled): 1.27%\n"
     ]
    }
   ],
   "execution_count": 25
  },
  {
   "metadata": {
    "ExecuteTime": {
     "end_time": "2025-01-22T21:49:08.976396Z",
     "start_time": "2025-01-22T21:49:08.963677Z"
    }
   },
   "cell_type": "code",
   "source": [
    "# 初始化预测值存储\n",
    "y_pred_unscaled = []  # 用于存储滚动预测的反归一化结果\n",
    "\n",
    "# 初始化第一个测试序列，并将其移动到同一设备\n",
    "current_sequence = X_test[0].unsqueeze(0).clone().to(device)  # [1, 24, 14]\n",
    "last_pre = current_sequence[0, -1, 4].item()  # 初始化为第一个序列的最后一个 load 值\n",
    "\n",
    "with torch.no_grad():\n",
    "    for i in range(len(X_test)):\n",
    "        # 将当前序列克隆并移动到设备\n",
    "        current_sequence = X_test[i].unsqueeze(0).clone().to(device)\n",
    "\n",
    "        # 将预测值替换到当前序列的最后一个时间步的 load\n",
    "        current_sequence[0, -1, 4] = torch.tensor(last_pre, dtype=torch.float32, device=device)\n",
    "\n",
    "        # 模型预测当前时间步的 load\n",
    "        pred = model(current_sequence)  # [1, 1]\n",
    "        y_pred_unscaled.append(pred.item())  # 记录预测值\n",
    "\n",
    "        # 更新 last_pre，作为下一步的输入\n",
    "        last_pre = pred.item()\n",
    "\n",
    "# 转换为 NumPy 数组\n",
    "y_pred_unscaled = np.array(y_pred_unscaled)\n",
    "\n",
    "#============================#\n",
    "#      进行“反归一化”      #\n",
    "#============================#\n",
    "\n",
    "# 1) 准备一个与原特征数相同（14列）的零矩阵\n",
    "test_data_temp = np.zeros((y_test.shape[0], 5))\n",
    "pred_data_temp = np.zeros((len(y_pred_unscaled), 5))\n",
    "\n",
    "# 2) 仅将第 14 列（对应 load ）替换为真实值和预测值\n",
    "test_data_temp[:, -1] = y_test.cpu().numpy()\n",
    "pred_data_temp[:, -1] = y_pred_unscaled\n",
    "\n",
    "# 3) 使用之前的 scaler 做逆变换\n",
    "test_data_unscaled = scaler.inverse_transform(test_data_temp)\n",
    "pred_data_unscaled = scaler.inverse_transform(pred_data_temp)\n",
    "\n",
    "# 4) 取出反归一化后的 load 列\n",
    "y_test_unscaled = test_data_unscaled[:, -1]\n",
    "y_pred_unscaled = pred_data_unscaled[:, -1]\n",
    "\n",
    "#============================#\n",
    "#   计算原始尺度下的误差     #\n",
    "#============================#\n",
    "\n",
    "# 在原始量纲下计算 MSE, MAE, R^2, MAPE\n",
    "from sklearn.metrics import mean_squared_error, mean_absolute_error, r2_score\n",
    "\n",
    "mse = mean_squared_error(y_test_unscaled, y_pred_unscaled)\n",
    "mae = mean_absolute_error(y_test_unscaled, y_pred_unscaled)\n",
    "r2 = r2_score(y_test_unscaled, y_pred_unscaled)\n",
    "mape = np.mean(np.abs((y_test_unscaled - y_pred_unscaled) / (y_test_unscaled + 1e-8))) * 100\n",
    "\n",
    "print(\"Test MSE (Unscaled):  \", mse)\n",
    "print(\"Test MAE (Unscaled):  \", mae)\n",
    "print(\"Test R^2 (Unscaled):  \", r2)\n",
    "print(\"Test MAPE (Unscaled): {:.2f}%\".format(mape))"
   ],
   "id": "27332062ae99d795",
   "outputs": [
    {
     "name": "stdout",
     "output_type": "stream",
     "text": [
      "Test MSE (Unscaled):   11447.19757284309\n",
      "Test MAE (Unscaled):   90.489140070652\n",
      "Test R^2 (Unscaled):   0.9243284657201142\n",
      "Test MAPE (Unscaled): 3.11%\n"
     ]
    }
   ],
   "execution_count": 26
  }
 ],
 "metadata": {
  "kernelspec": {
   "display_name": "Python 3",
   "language": "python",
   "name": "python3"
  },
  "language_info": {
   "codemirror_mode": {
    "name": "ipython",
    "version": 2
   },
   "file_extension": ".py",
   "mimetype": "text/x-python",
   "name": "python",
   "nbconvert_exporter": "python",
   "pygments_lexer": "ipython2",
   "version": "2.7.6"
  }
 },
 "nbformat": 4,
 "nbformat_minor": 5
}
